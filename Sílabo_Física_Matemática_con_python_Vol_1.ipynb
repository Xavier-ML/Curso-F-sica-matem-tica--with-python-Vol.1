{
  "nbformat": 4,
  "nbformat_minor": 0,
  "metadata": {
    "colab": {
      "provenance": [],
      "authorship_tag": "ABX9TyOGaNwR0on2ur5MI1OUmbyO",
      "include_colab_link": true
    },
    "kernelspec": {
      "name": "python3",
      "display_name": "Python 3"
    },
    "language_info": {
      "name": "python"
    }
  },
  "cells": [
    {
      "cell_type": "markdown",
      "metadata": {
        "id": "view-in-github",
        "colab_type": "text"
      },
      "source": [
        "<a href=\"https://colab.research.google.com/github/Xavier-ML/Curso-Fisica-matematica-con-python-Vol.1/blob/main/S%C3%ADlabo_F%C3%ADsica_Matem%C3%A1tica_con_python_Vol_1.ipynb\" target=\"_parent\"><img src=\"https://colab.research.google.com/assets/colab-badge.svg\" alt=\"Open In Colab\"/></a>"
      ]
    },
    {
      "cell_type": "markdown",
      "source": [
        "# Contenido"
      ],
      "metadata": {
        "id": "hrTu0a6jOQXk"
      }
    },
    {
      "cell_type": "markdown",
      "source": [
        "## Parte 1 - Ecuaciones diferenciales ordinarias\n",
        "### Capítulo 1 - Ecuaciones diferenciales ordinarias\n",
        "    1.1 definiciones\n",
        "    1.2 Clasificacion\n",
        "    1.3 soluciones generales análitica y númerica\n",
        "    1.4 Problemas resueltos análitica y númerica\n",
        "\n",
        "### Capítulo 2 - Ecuaciones diferenciales ordinarias de primer orden\n",
        "    2.1 ecuaciones lineales\n",
        "        2.1.1 Método de solución por el factor integrante\n",
        "    2.2 Ecuaciones no lineales\n",
        "    2.3 Otros tipos de ecuaciones de primer orden\n",
        "        2.3.1 Ecuaciones separables\n",
        "        2.3.2 Ecuaciones exactas\n",
        "    2.4 Problemas resueltos análitica y númerica\n",
        "\n",
        "### Capítulo 3 - Ecuaciones diferenciales ordinarias de segundo orden\n",
        "    3.1 Ecuaciones Lineales\n",
        "        3.1.1 Ecuaciones lineales homogenea\n",
        "        3.1.2 Ecuaciones lineales no homogenea\n",
        "    3.2 Problemas resueltos análitica y númerica\n",
        "\n",
        "### Capítulo 4 - Métodos generales de solución de ecuaciones diferenciales ordinarias\n",
        "    4.1 Ecuaciones diferenciales ordinarias de cualquier orden\n",
        "        4.1.1 Método de solución por los operadores diferenciales\n",
        "        4.1.3 Método de las series de potencias de Frobenius\n",
        "    4.2 Problemas resueltos análitica y númerica\n",
        "\n",
        "\n",
        "    "
      ],
      "metadata": {
        "id": "ZwyxhXcVgXX1"
      }
    },
    {
      "cell_type": "markdown",
      "source": [
        "## Parte 2 - Transformaciones"
      ],
      "metadata": {
        "id": "0E8HkaPTgcQs"
      }
    },
    {
      "cell_type": "markdown",
      "source": [
        "## Parte 3 - Funciones especiales"
      ],
      "metadata": {
        "id": "CEVHYTH3gcvq"
      }
    }
  ]
}